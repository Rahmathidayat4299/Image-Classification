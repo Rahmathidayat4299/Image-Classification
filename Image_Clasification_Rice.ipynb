{
  "cells": [
    {
      "cell_type": "code",
      "execution_count": 26,
      "metadata": {
        "id": "PcQWOVGBzuYU"
      },
      "outputs": [],
      "source": [
        "# Rahmat Hidayat\n",
        "# hrahmat950@gmail.com"
      ]
    },
    {
      "cell_type": "code",
      "execution_count": 1,
      "metadata": {},
      "outputs": [
        {
          "name": "stdout",
          "output_type": "stream",
          "text": [
            "1.8.0\n"
          ]
        }
      ],
      "source": [
        "import scipy\n",
        "print(scipy.__version__)"
      ]
    },
    {
      "cell_type": "code",
      "execution_count": 2,
      "metadata": {
        "colab": {
          "base_uri": "https://localhost:8080/"
        },
        "id": "5WCe2DYuHtyC",
        "outputId": "36831a25-762d-4b62-f6d4-a70e9a9e5e55"
      },
      "outputs": [
        {
          "name": "stdout",
          "output_type": "stream",
          "text": [
            "\n",
            "up to date, audited 67 packages in 4s\n",
            "\n",
            "10 packages are looking for funding\n",
            "  run `npm fund` for details\n",
            "\n",
            "found 0 vulnerabilities\n",
            "Requirement already satisfied: tensorflow==2.18.0 in c:\\users\\hrahm\\anaconda3\\lib\\site-packages (2.18.0)\n",
            "Requirement already satisfied: tensorflow-intel==2.18.0 in c:\\users\\hrahm\\anaconda3\\lib\\site-packages (from tensorflow==2.18.0) (2.18.0)\n",
            "Requirement already satisfied: absl-py>=1.0.0 in c:\\users\\hrahm\\anaconda3\\lib\\site-packages (from tensorflow-intel==2.18.0->tensorflow==2.18.0) (2.1.0)\n",
            "Requirement already satisfied: astunparse>=1.6.0 in c:\\users\\hrahm\\anaconda3\\lib\\site-packages (from tensorflow-intel==2.18.0->tensorflow==2.18.0) (1.6.3)\n",
            "Requirement already satisfied: flatbuffers>=24.3.25 in c:\\users\\hrahm\\anaconda3\\lib\\site-packages (from tensorflow-intel==2.18.0->tensorflow==2.18.0) (24.12.23)\n",
            "Requirement already satisfied: gast!=0.5.0,!=0.5.1,!=0.5.2,>=0.2.1 in c:\\users\\hrahm\\anaconda3\\lib\\site-packages (from tensorflow-intel==2.18.0->tensorflow==2.18.0) (0.6.0)\n",
            "Requirement already satisfied: google-pasta>=0.1.1 in c:\\users\\hrahm\\anaconda3\\lib\\site-packages (from tensorflow-intel==2.18.0->tensorflow==2.18.0) (0.2.0)\n",
            "Requirement already satisfied: libclang>=13.0.0 in c:\\users\\hrahm\\anaconda3\\lib\\site-packages (from tensorflow-intel==2.18.0->tensorflow==2.18.0) (18.1.1)\n",
            "Requirement already satisfied: opt-einsum>=2.3.2 in c:\\users\\hrahm\\anaconda3\\lib\\site-packages (from tensorflow-intel==2.18.0->tensorflow==2.18.0) (3.4.0)\n",
            "Requirement already satisfied: packaging in c:\\users\\hrahm\\anaconda3\\lib\\site-packages (from tensorflow-intel==2.18.0->tensorflow==2.18.0) (20.9)\n",
            "Requirement already satisfied: protobuf!=4.21.0,!=4.21.1,!=4.21.2,!=4.21.3,!=4.21.4,!=4.21.5,<6.0.0dev,>=3.20.3 in c:\\users\\hrahm\\anaconda3\\lib\\site-packages (from tensorflow-intel==2.18.0->tensorflow==2.18.0) (3.20.3)\n",
            "Requirement already satisfied: requests<3,>=2.21.0 in c:\\users\\hrahm\\anaconda3\\lib\\site-packages (from tensorflow-intel==2.18.0->tensorflow==2.18.0) (2.32.2)\n",
            "Requirement already satisfied: setuptools in c:\\users\\hrahm\\anaconda3\\lib\\site-packages (from tensorflow-intel==2.18.0->tensorflow==2.18.0) (70.0.0)\n",
            "Requirement already satisfied: six>=1.12.0 in c:\\users\\hrahm\\anaconda3\\lib\\site-packages (from tensorflow-intel==2.18.0->tensorflow==2.18.0) (1.16.0)\n",
            "Requirement already satisfied: termcolor>=1.1.0 in c:\\users\\hrahm\\anaconda3\\lib\\site-packages (from tensorflow-intel==2.18.0->tensorflow==2.18.0) (2.5.0)\n",
            "Requirement already satisfied: typing-extensions>=3.6.6 in c:\\users\\hrahm\\anaconda3\\lib\\site-packages (from tensorflow-intel==2.18.0->tensorflow==2.18.0) (4.11.0)\n",
            "Requirement already satisfied: wrapt>=1.11.0 in c:\\users\\hrahm\\anaconda3\\lib\\site-packages (from tensorflow-intel==2.18.0->tensorflow==2.18.0) (1.14.1)\n",
            "Requirement already satisfied: grpcio<2.0,>=1.24.3 in c:\\users\\hrahm\\anaconda3\\lib\\site-packages (from tensorflow-intel==2.18.0->tensorflow==2.18.0) (1.68.1)\n",
            "Requirement already satisfied: tensorboard<2.19,>=2.18 in c:\\users\\hrahm\\anaconda3\\lib\\site-packages (from tensorflow-intel==2.18.0->tensorflow==2.18.0) (2.18.0)\n",
            "Requirement already satisfied: keras>=3.5.0 in c:\\users\\hrahm\\anaconda3\\lib\\site-packages (from tensorflow-intel==2.18.0->tensorflow==2.18.0) (3.7.0)\n",
            "Requirement already satisfied: numpy<2.1.0,>=1.26.0 in c:\\users\\hrahm\\anaconda3\\lib\\site-packages (from tensorflow-intel==2.18.0->tensorflow==2.18.0) (1.26.0)\n",
            "Requirement already satisfied: h5py>=3.11.0 in c:\\users\\hrahm\\anaconda3\\lib\\site-packages (from tensorflow-intel==2.18.0->tensorflow==2.18.0) (3.11.0)\n",
            "Requirement already satisfied: ml-dtypes<0.5.0,>=0.4.0 in c:\\users\\hrahm\\anaconda3\\lib\\site-packages (from tensorflow-intel==2.18.0->tensorflow==2.18.0) (0.4.1)\n",
            "Requirement already satisfied: wheel<1.0,>=0.23.0 in c:\\users\\hrahm\\anaconda3\\lib\\site-packages (from astunparse>=1.6.0->tensorflow-intel==2.18.0->tensorflow==2.18.0) (0.43.0)\n",
            "Requirement already satisfied: rich in c:\\users\\hrahm\\anaconda3\\lib\\site-packages (from keras>=3.5.0->tensorflow-intel==2.18.0->tensorflow==2.18.0) (13.3.5)\n",
            "Requirement already satisfied: namex in c:\\users\\hrahm\\anaconda3\\lib\\site-packages (from keras>=3.5.0->tensorflow-intel==2.18.0->tensorflow==2.18.0) (0.0.8)\n",
            "Requirement already satisfied: optree in c:\\users\\hrahm\\anaconda3\\lib\\site-packages (from keras>=3.5.0->tensorflow-intel==2.18.0->tensorflow==2.18.0) (0.13.1)\n",
            "Requirement already satisfied: charset-normalizer<4,>=2 in c:\\users\\hrahm\\anaconda3\\lib\\site-packages (from requests<3,>=2.21.0->tensorflow-intel==2.18.0->tensorflow==2.18.0) (2.0.4)\n",
            "Requirement already satisfied: idna<4,>=2.5 in c:\\users\\hrahm\\anaconda3\\lib\\site-packages (from requests<3,>=2.21.0->tensorflow-intel==2.18.0->tensorflow==2.18.0) (2.10)\n",
            "Requirement already satisfied: urllib3<3,>=1.21.1 in c:\\users\\hrahm\\anaconda3\\lib\\site-packages (from requests<3,>=2.21.0->tensorflow-intel==2.18.0->tensorflow==2.18.0) (2.2.2)\n",
            "Requirement already satisfied: certifi>=2017.4.17 in c:\\users\\hrahm\\anaconda3\\lib\\site-packages (from requests<3,>=2.21.0->tensorflow-intel==2.18.0->tensorflow==2.18.0) (2024.7.4)\n",
            "Requirement already satisfied: markdown>=2.6.8 in c:\\users\\hrahm\\anaconda3\\lib\\site-packages (from tensorboard<2.19,>=2.18->tensorflow-intel==2.18.0->tensorflow==2.18.0) (3.4.1)\n",
            "Requirement already satisfied: tensorboard-data-server<0.8.0,>=0.7.0 in c:\\users\\hrahm\\anaconda3\\lib\\site-packages (from tensorboard<2.19,>=2.18->tensorflow-intel==2.18.0->tensorflow==2.18.0) (0.7.2)\n",
            "Requirement already satisfied: werkzeug>=1.0.1 in c:\\users\\hrahm\\anaconda3\\lib\\site-packages (from tensorboard<2.19,>=2.18->tensorflow-intel==2.18.0->tensorflow==2.18.0) (3.0.3)\n",
            "Requirement already satisfied: pyparsing>=2.0.2 in c:\\users\\hrahm\\anaconda3\\lib\\site-packages (from packaging->tensorflow-intel==2.18.0->tensorflow==2.18.0) (3.0.9)\n",
            "Requirement already satisfied: MarkupSafe>=2.1.1 in c:\\users\\hrahm\\anaconda3\\lib\\site-packages (from werkzeug>=1.0.1->tensorboard<2.19,>=2.18->tensorflow-intel==2.18.0->tensorflow==2.18.0) (2.1.3)\n",
            "Requirement already satisfied: markdown-it-py<3.0.0,>=2.2.0 in c:\\users\\hrahm\\anaconda3\\lib\\site-packages (from rich->keras>=3.5.0->tensorflow-intel==2.18.0->tensorflow==2.18.0) (2.2.0)\n",
            "Requirement already satisfied: pygments<3.0.0,>=2.13.0 in c:\\users\\hrahm\\anaconda3\\lib\\site-packages (from rich->keras>=3.5.0->tensorflow-intel==2.18.0->tensorflow==2.18.0) (2.15.1)\n",
            "Requirement already satisfied: mdurl~=0.1 in c:\\users\\hrahm\\anaconda3\\lib\\site-packages (from markdown-it-py<3.0.0,>=2.2.0->rich->keras>=3.5.0->tensorflow-intel==2.18.0->tensorflow==2.18.0) (0.1.0)\n"
          ]
        }
      ],
      "source": [
        "!npm install @tensorflow/tfjs\n",
        "!pip install tensorflow==2.18.0"
      ]
    },
    {
      "cell_type": "code",
      "execution_count": 3,
      "metadata": {
        "colab": {
          "base_uri": "https://localhost:8080/"
        },
        "id": "qkCjbsEG0Dpg",
        "outputId": "39e4932d-6abd-4f95-994b-b0eaeed3e3d8"
      },
      "outputs": [
        {
          "name": "stderr",
          "output_type": "stream",
          "text": [
            "c:\\Users\\hrahm\\OneDrive\\Documents\\machine learning doing\\rice image classification\\.venv\\lib\\site-packages\\tqdm\\auto.py:21: TqdmWarning: IProgress not found. Please update jupyter and ipywidgets. See https://ipywidgets.readthedocs.io/en/stable/user_install.html\n",
            "  from .autonotebook import tqdm as notebook_tqdm\n"
          ]
        },
        {
          "name": "stdout",
          "output_type": "stream",
          "text": [
            "Path to dataset files: C:\\Users\\hrahm\\.cache\\kagglehub\\datasets\\muratkokludataset\\rice-image-dataset\\versions\\1\n"
          ]
        }
      ],
      "source": [
        "# %pip install kagglehub\n",
        "import kagglehub\n",
        "\n",
        "# Download latest version\n",
        "path = kagglehub.dataset_download(\"muratkokludataset/rice-image-dataset\")\n",
        "\n",
        "print(\"Path to dataset files:\", path)"
      ]
    },
    {
      "cell_type": "code",
      "execution_count": 4,
      "metadata": {},
      "outputs": [],
      "source": [
        "import matplotlib.pyplot as plt\n",
        "import numpy as np\n",
        "import PIL\n",
        "import tensorflow as tf\n",
        "from tensorflow import keras\n",
        "from tensorflow.keras import layers\n",
        "from tensorflow.keras.models import Sequential"
      ]
    },
    {
      "cell_type": "code",
      "execution_count": 5,
      "metadata": {
        "colab": {
          "base_uri": "https://localhost:8080/"
        },
        "id": "V1mV_GCf19Uq",
        "outputId": "ce6c7f14-aad2-454f-c85f-4554e284023e"
      },
      "outputs": [
        {
          "name": "stdout",
          "output_type": "stream",
          "text": [
            "Isi folder 'Rice_Image_Dataset':\n",
            "['Arborio', 'Basmati', 'Ipsala', 'Jasmine', 'Karacadag', 'Rice_Citation_Request.txt']\n"
          ]
        }
      ],
      "source": [
        "import os\n",
        "\n",
        "dataset_path = r\"C:\\Users\\hrahm\\.cache\\kagglehub\\datasets\\muratkokludataset\\rice-image-dataset\\versions\\1\\Rice_Image_Dataset\"\n",
        "\n",
        "# Cek isi direktori Rice_Image_Dataset\n",
        "print(\"Isi folder 'Rice_Image_Dataset':\")\n",
        "print(os.listdir(dataset_path))\n"
      ]
    },
    {
      "cell_type": "code",
      "execution_count": 6,
      "metadata": {
        "colab": {
          "base_uri": "https://localhost:8080/"
        },
        "id": "quwpSVE02rKN",
        "outputId": "7c7b2ee8-dd04-4634-f77a-90be09853762"
      },
      "outputs": [
        {
          "data": {
            "image/png": "[encoded data removed]",
            "text/plain": [
              "<Figure size 1500x500 with 5 Axes>"
            ]
          },
          "metadata": {},
          "output_type": "display_data"
        }
      ],
      "source": [
        "import matplotlib.pyplot as plt\n",
        "from PIL import Image\n",
        "import os\n",
        "\n",
        "dataset_path = r\"C:\\Users\\hrahm\\.cache\\kagglehub\\datasets\\muratkokludataset\\rice-image-dataset\\versions\\1\\Rice_Image_Dataset\"\n",
        "\n",
        "# Ambil daftar kelas (hanya folder, bukan file)\n",
        "image_classes = [folder for folder in os.listdir(dataset_path) if os.path.isdir(os.path.join(dataset_path, folder))]\n",
        "\n",
        "# Buat plot\n",
        "fig, axes = plt.subplots(1, len(image_classes), figsize=(15, 5))\n",
        "\n",
        "for i, class_name in enumerate(image_classes):\n",
        "    class_path = os.path.join(dataset_path, class_name)\n",
        "    \n",
        "    # Ambil satu gambar dari kelas tersebut\n",
        "    image_file = os.listdir(class_path)[0]  # Ambil gambar pertama\n",
        "    image_path = os.path.join(class_path, image_file)\n",
        "\n",
        "    # Tampilkan gambar\n",
        "    img = Image.open(image_path)\n",
        "    axes[i].imshow(img)\n",
        "    axes[i].axis(\"off\")\n",
        "    axes[i].set_title(class_name)\n",
        "\n",
        "plt.show()\n"
      ]
    },
    {
      "cell_type": "code",
      "execution_count": 7,
      "metadata": {
        "id": "A_5J8J_x3nUr"
      },
      "outputs": [],
      "source": [
        "base_dir = r\"C:\\Users\\hrahm\\.cache\\kagglehub\\datasets\\muratkokludataset\\rice-image-dataset\\versions\\1\\Rice_Image_Dataset\"\n",
        "#base dir harus memastikan bahwa data sesuai aktual pada deskripsi website"
      ]
    },
    {
      "cell_type": "code",
      "execution_count": 8,
      "metadata": {},
      "outputs": [
        {
          "name": "stdout",
          "output_type": "stream",
          "text": [
            "Arborio: 15000\n",
            "Basmati: 15000\n",
            "Ipsala: 15000\n",
            "Jasmine: 15000\n",
            "Karacadag: 15000\n",
            "- (250, 250)\n",
            "----------------\n",
            "\n",
            "Total: 75000\n"
          ]
        }
      ],
      "source": [
        "from PIL import Image\n",
        "import os\n",
        "\n",
        "def print_images_resolution(directory):\n",
        "    unique_sizes = set()\n",
        "    total_images = 0\n",
        "\n",
        "    for subdir in os.listdir(directory):\n",
        "        subdir_path = os.path.join(directory, subdir)\n",
        "        if os.path.isdir(subdir_path):  # Check if it is a directory\n",
        "            image_files = os.listdir(subdir_path)\n",
        "            num_images = len(image_files)\n",
        "            print(f\"{subdir}: {num_images}\")\n",
        "            total_images += num_images\n",
        "\n",
        "            for img_file in image_files:\n",
        "                img_path = os.path.join(subdir_path, img_file)\n",
        "                with Image.open(img_path) as img:\n",
        "                    unique_sizes.add(img.size)\n",
        "\n",
        "    for size in unique_sizes:\n",
        "        print(f\"- {size}\")\n",
        "    print(\"----------------\")\n",
        "    print(f\"\\nTotal: {total_images}\")\n",
        "\n",
        "# Contoh pemanggilan fungsi\n",
        "print_images_resolution(base_dir)\n"
      ]
    },
    {
      "cell_type": "code",
      "execution_count": 9,
      "metadata": {},
      "outputs": [
        {
          "name": "stdout",
          "output_type": "stream",
          "text": [
            "Note: you may need to restart the kernel to use updated packages.\n",
            "2.10.0\n"
          ]
        },
        {
          "name": "stderr",
          "output_type": "stream",
          "text": [
            "c:\\Users\\hrahm\\OneDrive\\Documents\\machine learning doing\\rice image classification\\.venv\\Scripts\\python.exe: No module named pip\n"
          ]
        }
      ],
      "source": [
        "%pip install tensorflow --upgrade\n",
        "\n",
        "import tensorflow as tf\n",
        "print(tf.__version__)\n"
      ]
    },
    {
      "cell_type": "code",
      "execution_count": 10,
      "metadata": {
        "colab": {
          "base_uri": "https://localhost:8080/"
        },
        "id": "fHUr8Db57baB",
        "outputId": "7def111c-5734-4281-f2b3-506a8dbe8145"
      },
      "outputs": [
        {
          "name": "stdout",
          "output_type": "stream",
          "text": [
            "Found 60000 images belonging to 5 classes.\n",
            "Found 15000 images belonging to 5 classes.\n",
            "Found 7500 images belonging to 5 classes.\n"
          ]
        }
      ],
      "source": [
        "from tensorflow.keras.preprocessing.image import ImageDataGenerator\n",
        "\n",
        "# Membuat ImageDataGenerator untuk augmentasi dan preprocessing gambar pada data pelatihan\n",
        "train_datagen = ImageDataGenerator(\n",
        "    rescale=1.0/255,\n",
        "    validation_split=0.2,  # 20% untuk validation set, 80% untuk training set\n",
        "    rotation_range=20,\n",
        "    width_shift_range=0.2,\n",
        "    height_shift_range=0.2,\n",
        "    shear_range=0.2,\n",
        "    zoom_range=0.2,\n",
        "    horizontal_flip=True,\n",
        "    fill_mode='nearest'\n",
        ")\n",
        "\n",
        "# Membuat ImageDataGenerator untuk preprocessing gambar pada data validasi dan test\n",
        "valid_test_datagen = ImageDataGenerator(\n",
        "    rescale=1.0/255,\n",
        "    validation_split=0.1  # 10% untuk test set dari keseluruhan data\n",
        ")\n",
        "\n",
        "# Menyediakan generator data untuk training\n",
        "train_generator = train_datagen.flow_from_directory(\n",
        "    base_dir,\n",
        "    target_size=(150, 150),\n",
        "    batch_size=32,\n",
        "    class_mode='categorical',\n",
        "    subset='training',  # set sebagai data training\n",
        "    shuffle=True\n",
        ")\n",
        "\n",
        "# Menyediakan generator data untuk validasi\n",
        "validation_generator = train_datagen.flow_from_directory(\n",
        "    base_dir,\n",
        "    target_size=(150, 150),\n",
        "    batch_size=32,\n",
        "    class_mode='categorical',\n",
        "    subset='validation',  # set sebagai data validation\n",
        "    shuffle=False\n",
        ")\n",
        "\n",
        "# Menyediakan generator data untuk test\n",
        "test_generator = valid_test_datagen.flow_from_directory(\n",
        "    base_dir,\n",
        "    target_size=(150, 150),\n",
        "    batch_size=32,\n",
        "    class_mode='categorical',\n",
        "    subset='validation',  # set sebagai data test\n",
        "    shuffle=False\n",
        ")\n"
      ]
    },
    {
      "cell_type": "code",
      "execution_count": 11,
      "metadata": {
        "colab": {
          "base_uri": "https://localhost:8080/"
        },
        "id": "W7TnUnBz7zY7",
        "outputId": "33eb3052-6d41-4096-e2f9-ab5e8d53531e"
      },
      "outputs": [
        {
          "name": "stdout",
          "output_type": "stream",
          "text": [
            "Epoch 1/25\n",
            "1875/1875 [==============================] - 1426s 759ms/step - loss: 0.3288 - accuracy: 0.8669 - val_loss: 0.0446 - val_accuracy: 0.9858\n",
            "Epoch 2/25\n",
            "1875/1875 [==============================] - 1093s 583ms/step - loss: 0.0973 - accuracy: 0.9677 - val_loss: 0.0321 - val_accuracy: 0.9894\n"
          ]
        }
      ],
      "source": [
        "import tensorflow as tf\n",
        "\n",
        "# Membangun model\n",
        "model = tf.keras.models.Sequential([\n",
        "    tf.keras.layers.Conv2D(32, (3,3), activation='relu', input_shape=(150, 150, 3)),\n",
        "    tf.keras.layers.MaxPooling2D(2, 2),\n",
        "    tf.keras.layers.Conv2D(64, (3,3), activation='relu'),\n",
        "    tf.keras.layers.MaxPooling2D(2, 2),\n",
        "    tf.keras.layers.Conv2D(128, (3,3), activation='relu'),\n",
        "    tf.keras.layers.MaxPooling2D(2, 2),\n",
        "    tf.keras.layers.Conv2D(128, (3,3), activation='relu'),\n",
        "    tf.keras.layers.MaxPooling2D(2, 2),\n",
        "    tf.keras.layers.Flatten(),\n",
        "    tf.keras.layers.Dense(512, activation='relu'),\n",
        "    tf.keras.layers.Dropout(0.5),\n",
        "    tf.keras.layers.Dense(5, activation='softmax')  # Ubah jumlah unit output ke 5\n",
        "])\n",
        "\n",
        "# Kompilasi model\n",
        "model.compile(\n",
        "    loss='categorical_crossentropy',\n",
        "    optimizer='adam',\n",
        "    metrics=['accuracy']\n",
        ")\n",
        "\n",
        "# Callback untuk menghentikan pelatihan jika waktu melebihi 30 menit\n",
        "import time\n",
        "\n",
        "class TimeHistory(tf.keras.callbacks.Callback):\n",
        "    def on_train_begin(self, logs={}):\n",
        "        self.start_time = time.time()\n",
        "\n",
        "    def on_epoch_end(self, epoch, logs={}):\n",
        "        if time.time() - self.start_time > 30 * 60:  # 30 menit\n",
        "            self.model.stop_training = True\n",
        "\n",
        "time_callback = TimeHistory()\n",
        "\n",
        "# Melatih model dengan data yang sudah disiapkan\n",
        "history = model.fit(\n",
        "    train_generator,\n",
        "    steps_per_epoch=train_generator.samples // 32,\n",
        "    epochs=25,\n",
        "    validation_data=validation_generator,\n",
        "    validation_steps=validation_generator.samples // 32,\n",
        "    callbacks=[time_callback]\n",
        ")\n",
        "\n",
        "# Menyimpan model yang sudah dilatih\n",
        "model.save('dataset_rice.h5')\n"
      ]
    },
    {
      "cell_type": "code",
      "execution_count": 12,
      "metadata": {
        "colab": {
          "base_uri": "https://localhost:8080/",
          "height": 591
        },
        "id": "nC4JZef1GSKP",
        "outputId": "5df24009-4eed-4044-97a0-70fa85d47583"
      },
      "outputs": [
        {
          "data": {
            "image/png": "[encoded data removed]",
            "text/plain": [
              "<Figure size 1200x600 with 2 Axes>"
            ]
          },
          "metadata": {},
          "output_type": "display_data"
        }
      ],
      "source": [
        "import matplotlib.pyplot as plt\n",
        "\n",
        "# Plot Akurasi\n",
        "plt.figure(figsize=(12, 6))\n",
        "\n",
        "# Akurasi pelatihan\n",
        "plt.subplot(1, 2, 1)\n",
        "plt.plot(history.history['accuracy'], label='Akurasi Training')\n",
        "plt.plot(history.history['val_accuracy'], label='Akurasi Validation')\n",
        "plt.title('Akurasi Model')\n",
        "plt.xlabel('Epoch')\n",
        "plt.ylabel('Akurasi')\n",
        "plt.legend()\n",
        "\n",
        "# Loss pelatihan\n",
        "plt.subplot(1, 2, 2)\n",
        "plt.plot(history.history['loss'], label='Loss Training')\n",
        "plt.plot(history.history['val_loss'], label='Loss Validation')\n",
        "plt.title('Loss Model')\n",
        "plt.xlabel('Epoch')\n",
        "plt.ylabel('Loss')\n",
        "plt.legend()\n",
        "\n",
        "# Menampilkan plot\n",
        "plt.tight_layout()\n",
        "plt.show()\n"
      ]
    },
    {
      "cell_type": "code",
      "execution_count": 13,
      "metadata": {
        "id": "VusNSbWFGnxK"
      },
      "outputs": [
        {
          "name": "stderr",
          "output_type": "stream",
          "text": [
            "WARNING:absl:Found untraced functions such as _jit_compiled_convolution_op, _jit_compiled_convolution_op, _jit_compiled_convolution_op, _jit_compiled_convolution_op while saving (showing 4 of 4). These functions will not be directly callable after loading.\n"
          ]
        },
        {
          "name": "stdout",
          "output_type": "stream",
          "text": [
            "INFO:tensorflow:Assets written to: saved_model/my_model\\assets\n"
          ]
        },
        {
          "name": "stderr",
          "output_type": "stream",
          "text": [
            "INFO:tensorflow:Assets written to: saved_model/my_model\\assets\n"
          ]
        }
      ],
      "source": [
        "# Menyimpan model ke format SavedModel\n",
        "model.save('saved_model/my_model')"
      ]
    },
    {
      "cell_type": "code",
      "execution_count": 14,
      "metadata": {
        "colab": {
          "base_uri": "https://localhost:8080/"
        },
        "id": "u7WyLFoxHqvu",
        "outputId": "694e9373-f2a1-421c-9500-dab66b9d7760"
      },
      "outputs": [
        {
          "name": "stdout",
          "output_type": "stream",
          "text": [
            "Model: \"sequential\"\n",
            "_________________________________________________________________\n",
            " Layer (type)                Output Shape              Param #   \n",
            "=================================================================\n",
            " conv2d (Conv2D)             (None, 148, 148, 32)      896       \n",
            "                                                                 \n",
            " max_pooling2d (MaxPooling2D  (None, 74, 74, 32)       0         \n",
            " )                                                               \n",
            "                                                                 \n",
            " conv2d_1 (Conv2D)           (None, 72, 72, 64)        18496     \n",
            "                                                                 \n",
            " max_pooling2d_1 (MaxPooling  (None, 36, 36, 64)       0         \n",
            " 2D)                                                             \n",
            "                                                                 \n",
            " conv2d_2 (Conv2D)           (None, 34, 34, 128)       73856     \n",
            "                                                                 \n",
            " max_pooling2d_2 (MaxPooling  (None, 17, 17, 128)      0         \n",
            " 2D)                                                             \n",
            "                                                                 \n",
            " conv2d_3 (Conv2D)           (None, 15, 15, 128)       147584    \n",
            "                                                                 \n",
            " max_pooling2d_3 (MaxPooling  (None, 7, 7, 128)        0         \n",
            " 2D)                                                             \n",
            "                                                                 \n",
            " flatten (Flatten)           (None, 6272)              0         \n",
            "                                                                 \n",
            " dense (Dense)               (None, 512)               3211776   \n",
            "                                                                 \n",
            " dropout (Dropout)           (None, 512)               0         \n",
            "                                                                 \n",
            " dense_1 (Dense)             (None, 5)                 2565      \n",
            "                                                                 \n",
            "=================================================================\n",
            "Total params: 3,455,173\n",
            "Trainable params: 3,455,173\n",
            "Non-trainable params: 0\n",
            "_________________________________________________________________\n"
          ]
        }
      ],
      "source": [
        "import tensorflow as tf\n",
        "\n",
        "# Memuat model dari format SavedModel\n",
        "loaded_model = tf.keras.models.load_model('saved_model/my_model')\n",
        "\n",
        "# Menampilkan ringkasan model\n",
        "loaded_model.summary()\n"
      ]
    },
    {
      "cell_type": "code",
      "execution_count": 15,
      "metadata": {
        "colab": {
          "base_uri": "https://localhost:8080/"
        },
        "id": "LnLGoLVBPYhl",
        "outputId": "ff0c264e-12a6-4b52-ff37-a549b8bc2c88"
      },
      "outputs": [
        {
          "name": "stdout",
          "output_type": "stream",
          "text": [
            "Direktori model ditemukan.\n",
            "Isi direktori:\n",
            "['assets', 'keras_metadata.pb', 'saved_model.pb', 'variables']\n"
          ]
        }
      ],
      "source": [
        "import os\n",
        "\n",
        "# Memeriksa apakah direktori model ada\n",
        "if os.path.exists('saved_model/my_model'):\n",
        "    print(\"Direktori model ditemukan.\")\n",
        "    print(\"Isi direktori:\")\n",
        "    print(os.listdir('saved_model/my_model'))\n",
        "else:\n",
        "    print(\"Direktori model tidak ditemukan.\")\n"
      ]
    },
    {
      "cell_type": "code",
      "execution_count": 16,
      "metadata": {
        "colab": {
          "base_uri": "https://localhost:8080/"
        },
        "id": "ND3mZJrnbY4D",
        "outputId": "c1fe5446-1e11-4b96-d27d-78b32a48df9b"
      },
      "outputs": [
        {
          "name": "stderr",
          "output_type": "stream",
          "text": [
            "'ls' is not recognized as an internal or external command,\n",
            "operable program or batch file.\n"
          ]
        }
      ],
      "source": [
        "!ls"
      ]
    },
    {
      "cell_type": "code",
      "execution_count": 17,
      "metadata": {
        "id": "AqSVhri2cloF"
      },
      "outputs": [
        {
          "name": "stderr",
          "output_type": "stream",
          "text": [
            "WARNING:absl:Found untraced functions such as _jit_compiled_convolution_op, _jit_compiled_convolution_op, _jit_compiled_convolution_op, _jit_compiled_convolution_op while saving (showing 4 of 4). These functions will not be directly callable after loading.\n"
          ]
        },
        {
          "name": "stdout",
          "output_type": "stream",
          "text": [
            "INFO:tensorflow:Assets written to: C:\\Users\\hrahm\\AppData\\Local\\Temp\\tmp4xqdhs2n\\assets\n"
          ]
        },
        {
          "name": "stderr",
          "output_type": "stream",
          "text": [
            "INFO:tensorflow:Assets written to: C:\\Users\\hrahm\\AppData\\Local\\Temp\\tmp4xqdhs2n\\assets\n"
          ]
        }
      ],
      "source": [
        "import tensorflow as tf\n",
        "\n",
        "# Memuat model yang telah disimpan\n",
        "model = tf.keras.models.load_model('saved_model/my_model')\n",
        "\n",
        "# Membuat converter TF-Lite\n",
        "converter = tf.lite.TFLiteConverter.from_keras_model(model)\n",
        "\n",
        "# Mengonversi model ke format TF-Lite\n",
        "tflite_model = converter.convert()\n",
        "\n",
        "# Menyimpan model TF-Lite ke file\n",
        "with open('model.tflite', 'wb') as f:\n",
        "    f.write(tflite_model)\n"
      ]
    },
    {
      "cell_type": "code",
      "execution_count": 18,
      "metadata": {
        "colab": {
          "base_uri": "https://localhost:8080/"
        },
        "id": "RsK-SXvpIbnN",
        "outputId": "a91a8f03-e50f-45d9-d433-c320f0eb16aa"
      },
      "outputs": [
        {
          "name": "stdout",
          "output_type": "stream",
          "text": [
            "2.10.0\n"
          ]
        }
      ],
      "source": [
        "import tensorflow as tf;\n",
        "print(tf.__version__)"
      ]
    },
    {
      "cell_type": "code",
      "execution_count": 19,
      "metadata": {
        "colab": {
          "base_uri": "https://localhost:8080/"
        },
        "id": "jZTPpy_XSE-i",
        "outputId": "23c5d681-757b-49db-c68f-2905142cb848"
      },
      "outputs": [
        {
          "name": "stdout",
          "output_type": "stream",
          "text": [
            "Note: you may need to restart the kernel to use updated packages.\n"
          ]
        },
        {
          "name": "stderr",
          "output_type": "stream",
          "text": [
            "c:\\Users\\hrahm\\OneDrive\\Documents\\machine learning doing\\rice image classification\\.venv\\Scripts\\python.exe: No module named pip\n"
          ]
        }
      ],
      "source": [
        "%pip uninstall tensorflow"
      ]
    },
    {
      "cell_type": "code",
      "execution_count": 20,
      "metadata": {
        "colab": {
          "base_uri": "https://localhost:8080/",
          "height": 1000
        },
        "id": "7_uRRakjSR5B",
        "outputId": "7825e0ab-7346-4db6-a623-d2d04b0a625f"
      },
      "outputs": [
        {
          "name": "stdout",
          "output_type": "stream",
          "text": [
            "Requirement already satisfied: tensorflowjs in c:\\users\\hrahm\\anaconda3\\lib\\site-packages (3.18.0)\n",
            "Requirement already satisfied: tensorflow<3,>=2.1.0 in c:\\users\\hrahm\\anaconda3\\lib\\site-packages (from tensorflowjs) (2.18.0)\n",
            "Requirement already satisfied: six<2,>=1.12.0 in c:\\users\\hrahm\\anaconda3\\lib\\site-packages (from tensorflowjs) (1.16.0)\n",
            "Requirement already satisfied: tensorflow-hub<0.13,>=0.7.0 in c:\\users\\hrahm\\anaconda3\\lib\\site-packages (from tensorflowjs) (0.12.0)\n",
            "Requirement already satisfied: packaging~=20.9 in c:\\users\\hrahm\\anaconda3\\lib\\site-packages (from tensorflowjs) (20.9)\n",
            "Requirement already satisfied: pyparsing>=2.0.2 in c:\\users\\hrahm\\anaconda3\\lib\\site-packages (from packaging~=20.9->tensorflowjs) (3.0.9)\n",
            "Requirement already satisfied: tensorflow-intel==2.18.0 in c:\\users\\hrahm\\anaconda3\\lib\\site-packages (from tensorflow<3,>=2.1.0->tensorflowjs) (2.18.0)\n",
            "Requirement already satisfied: absl-py>=1.0.0 in c:\\users\\hrahm\\anaconda3\\lib\\site-packages (from tensorflow-intel==2.18.0->tensorflow<3,>=2.1.0->tensorflowjs) (2.1.0)\n",
            "Requirement already satisfied: astunparse>=1.6.0 in c:\\users\\hrahm\\anaconda3\\lib\\site-packages (from tensorflow-intel==2.18.0->tensorflow<3,>=2.1.0->tensorflowjs) (1.6.3)\n",
            "Requirement already satisfied: flatbuffers>=24.3.25 in c:\\users\\hrahm\\anaconda3\\lib\\site-packages (from tensorflow-intel==2.18.0->tensorflow<3,>=2.1.0->tensorflowjs) (24.12.23)\n",
            "Requirement already satisfied: gast!=0.5.0,!=0.5.1,!=0.5.2,>=0.2.1 in c:\\users\\hrahm\\anaconda3\\lib\\site-packages (from tensorflow-intel==2.18.0->tensorflow<3,>=2.1.0->tensorflowjs) (0.6.0)\n",
            "Requirement already satisfied: google-pasta>=0.1.1 in c:\\users\\hrahm\\anaconda3\\lib\\site-packages (from tensorflow-intel==2.18.0->tensorflow<3,>=2.1.0->tensorflowjs) (0.2.0)\n",
            "Requirement already satisfied: libclang>=13.0.0 in c:\\users\\hrahm\\anaconda3\\lib\\site-packages (from tensorflow-intel==2.18.0->tensorflow<3,>=2.1.0->tensorflowjs) (18.1.1)\n",
            "Requirement already satisfied: opt-einsum>=2.3.2 in c:\\users\\hrahm\\anaconda3\\lib\\site-packages (from tensorflow-intel==2.18.0->tensorflow<3,>=2.1.0->tensorflowjs) (3.4.0)\n",
            "Requirement already satisfied: protobuf!=4.21.0,!=4.21.1,!=4.21.2,!=4.21.3,!=4.21.4,!=4.21.5,<6.0.0dev,>=3.20.3 in c:\\users\\hrahm\\anaconda3\\lib\\site-packages (from tensorflow-intel==2.18.0->tensorflow<3,>=2.1.0->tensorflowjs) (3.20.3)\n",
            "Requirement already satisfied: requests<3,>=2.21.0 in c:\\users\\hrahm\\anaconda3\\lib\\site-packages (from tensorflow-intel==2.18.0->tensorflow<3,>=2.1.0->tensorflowjs) (2.32.2)\n",
            "Requirement already satisfied: setuptools in c:\\users\\hrahm\\anaconda3\\lib\\site-packages (from tensorflow-intel==2.18.0->tensorflow<3,>=2.1.0->tensorflowjs) (70.0.0)\n",
            "Requirement already satisfied: termcolor>=1.1.0 in c:\\users\\hrahm\\anaconda3\\lib\\site-packages (from tensorflow-intel==2.18.0->tensorflow<3,>=2.1.0->tensorflowjs) (2.5.0)\n",
            "Requirement already satisfied: typing-extensions>=3.6.6 in c:\\users\\hrahm\\anaconda3\\lib\\site-packages (from tensorflow-intel==2.18.0->tensorflow<3,>=2.1.0->tensorflowjs) (4.11.0)\n",
            "Requirement already satisfied: wrapt>=1.11.0 in c:\\users\\hrahm\\anaconda3\\lib\\site-packages (from tensorflow-intel==2.18.0->tensorflow<3,>=2.1.0->tensorflowjs) (1.14.1)\n",
            "Requirement already satisfied: grpcio<2.0,>=1.24.3 in c:\\users\\hrahm\\anaconda3\\lib\\site-packages (from tensorflow-intel==2.18.0->tensorflow<3,>=2.1.0->tensorflowjs) (1.68.1)\n",
            "Requirement already satisfied: tensorboard<2.19,>=2.18 in c:\\users\\hrahm\\anaconda3\\lib\\site-packages (from tensorflow-intel==2.18.0->tensorflow<3,>=2.1.0->tensorflowjs) (2.18.0)\n",
            "Requirement already satisfied: keras>=3.5.0 in c:\\users\\hrahm\\anaconda3\\lib\\site-packages (from tensorflow-intel==2.18.0->tensorflow<3,>=2.1.0->tensorflowjs) (3.7.0)\n",
            "Requirement already satisfied: numpy<2.1.0,>=1.26.0 in c:\\users\\hrahm\\anaconda3\\lib\\site-packages (from tensorflow-intel==2.18.0->tensorflow<3,>=2.1.0->tensorflowjs) (1.26.0)\n",
            "Requirement already satisfied: h5py>=3.11.0 in c:\\users\\hrahm\\anaconda3\\lib\\site-packages (from tensorflow-intel==2.18.0->tensorflow<3,>=2.1.0->tensorflowjs) (3.11.0)\n",
            "Requirement already satisfied: ml-dtypes<0.5.0,>=0.4.0 in c:\\users\\hrahm\\anaconda3\\lib\\site-packages (from tensorflow-intel==2.18.0->tensorflow<3,>=2.1.0->tensorflowjs) (0.4.1)\n",
            "Requirement already satisfied: wheel<1.0,>=0.23.0 in c:\\users\\hrahm\\anaconda3\\lib\\site-packages (from astunparse>=1.6.0->tensorflow-intel==2.18.0->tensorflow<3,>=2.1.0->tensorflowjs) (0.43.0)\n",
            "Requirement already satisfied: rich in c:\\users\\hrahm\\anaconda3\\lib\\site-packages (from keras>=3.5.0->tensorflow-intel==2.18.0->tensorflow<3,>=2.1.0->tensorflowjs) (13.3.5)\n",
            "Requirement already satisfied: namex in c:\\users\\hrahm\\anaconda3\\lib\\site-packages (from keras>=3.5.0->tensorflow-intel==2.18.0->tensorflow<3,>=2.1.0->tensorflowjs) (0.0.8)\n",
            "Requirement already satisfied: optree in c:\\users\\hrahm\\anaconda3\\lib\\site-packages (from keras>=3.5.0->tensorflow-intel==2.18.0->tensorflow<3,>=2.1.0->tensorflowjs) (0.13.1)\n",
            "Requirement already satisfied: charset-normalizer<4,>=2 in c:\\users\\hrahm\\anaconda3\\lib\\site-packages (from requests<3,>=2.21.0->tensorflow-intel==2.18.0->tensorflow<3,>=2.1.0->tensorflowjs) (2.0.4)\n",
            "Requirement already satisfied: idna<4,>=2.5 in c:\\users\\hrahm\\anaconda3\\lib\\site-packages (from requests<3,>=2.21.0->tensorflow-intel==2.18.0->tensorflow<3,>=2.1.0->tensorflowjs) (2.10)\n",
            "Requirement already satisfied: urllib3<3,>=1.21.1 in c:\\users\\hrahm\\anaconda3\\lib\\site-packages (from requests<3,>=2.21.0->tensorflow-intel==2.18.0->tensorflow<3,>=2.1.0->tensorflowjs) (2.2.2)\n",
            "Requirement already satisfied: certifi>=2017.4.17 in c:\\users\\hrahm\\anaconda3\\lib\\site-packages (from requests<3,>=2.21.0->tensorflow-intel==2.18.0->tensorflow<3,>=2.1.0->tensorflowjs) (2024.7.4)\n",
            "Requirement already satisfied: markdown>=2.6.8 in c:\\users\\hrahm\\anaconda3\\lib\\site-packages (from tensorboard<2.19,>=2.18->tensorflow-intel==2.18.0->tensorflow<3,>=2.1.0->tensorflowjs) (3.4.1)\n",
            "Requirement already satisfied: tensorboard-data-server<0.8.0,>=0.7.0 in c:\\users\\hrahm\\anaconda3\\lib\\site-packages (from tensorboard<2.19,>=2.18->tensorflow-intel==2.18.0->tensorflow<3,>=2.1.0->tensorflowjs) (0.7.2)\n",
            "Requirement already satisfied: werkzeug>=1.0.1 in c:\\users\\hrahm\\anaconda3\\lib\\site-packages (from tensorboard<2.19,>=2.18->tensorflow-intel==2.18.0->tensorflow<3,>=2.1.0->tensorflowjs) (3.0.3)\n",
            "Requirement already satisfied: MarkupSafe>=2.1.1 in c:\\users\\hrahm\\anaconda3\\lib\\site-packages (from werkzeug>=1.0.1->tensorboard<2.19,>=2.18->tensorflow-intel==2.18.0->tensorflow<3,>=2.1.0->tensorflowjs) (2.1.3)\n",
            "Requirement already satisfied: markdown-it-py<3.0.0,>=2.2.0 in c:\\users\\hrahm\\anaconda3\\lib\\site-packages (from rich->keras>=3.5.0->tensorflow-intel==2.18.0->tensorflow<3,>=2.1.0->tensorflowjs) (2.2.0)\n",
            "Requirement already satisfied: pygments<3.0.0,>=2.13.0 in c:\\users\\hrahm\\anaconda3\\lib\\site-packages (from rich->keras>=3.5.0->tensorflow-intel==2.18.0->tensorflow<3,>=2.1.0->tensorflowjs) (2.15.1)\n",
            "Requirement already satisfied: mdurl~=0.1 in c:\\users\\hrahm\\anaconda3\\lib\\site-packages (from markdown-it-py<3.0.0,>=2.2.0->rich->keras>=3.5.0->tensorflow-intel==2.18.0->tensorflow<3,>=2.1.0->tensorflowjs) (0.1.0)\n"
          ]
        }
      ],
      "source": [
        "!pip install tensorflowjs"
      ]
    },
    {
      "cell_type": "code",
      "execution_count": 21,
      "metadata": {
        "colab": {
          "base_uri": "https://localhost:8080/"
        },
        "id": "fCPucQw0xLO0",
        "outputId": "e95b2440-da5f-488e-e204-a0ec5a2be157"
      },
      "outputs": [
        {
          "name": "stderr",
          "output_type": "stream",
          "text": [
            "2025-03-16 00:20:59.644285: I tensorflow/core/util/port.cc:153] oneDNN custom operations are on. You may see slightly different numerical results due to floating-point round-off errors from different computation orders. To turn them off, set the environment variable `TF_ENABLE_ONEDNN_OPTS=0`.\n",
            "2025-03-16 00:21:02.132539: I tensorflow/core/util/port.cc:153] oneDNN custom operations are on. You may see slightly different numerical results due to floating-point round-off errors from different computation orders. To turn them off, set the environment variable `TF_ENABLE_ONEDNN_OPTS=0`.\n",
            "C:\\Users\\hrahm\\anaconda3\\Lib\\site-packages\\tensorflowjs\\read_weights.py:28: FutureWarning: In the future `np.object` will be defined as the corresponding NumPy scalar.\n",
            "  np.uint8, np.uint16, np.object, np.bool]\n",
            "Traceback (most recent call last):\n",
            "  File \"<frozen runpy>\", line 198, in _run_module_as_main\n",
            "  File \"<frozen runpy>\", line 88, in _run_code\n",
            "  File \"C:\\Users\\hrahm\\anaconda3\\Scripts\\tensorflowjs_converter.exe\\__main__.py\", line 4, in <module>\n",
            "  File \"C:\\Users\\hrahm\\anaconda3\\Lib\\site-packages\\tensorflowjs\\__init__.py\", line 21, in <module>\n",
            "    from tensorflowjs import converters\n",
            "  File \"C:\\Users\\hrahm\\anaconda3\\Lib\\site-packages\\tensorflowjs\\converters\\__init__.py\", line 21, in <module>\n",
            "    from tensorflowjs.converters.converter import convert\n",
            "  File \"C:\\Users\\hrahm\\anaconda3\\Lib\\site-packages\\tensorflowjs\\converters\\converter.py\", line 35, in <module>\n",
            "    from tensorflowjs.converters import keras_h5_conversion as conversion\n",
            "  File \"C:\\Users\\hrahm\\anaconda3\\Lib\\site-packages\\tensorflowjs\\converters\\keras_h5_conversion.py\", line 33, in <module>\n",
            "    from tensorflowjs import write_weights  # pylint: disable=import-error\n",
            "    ^^^^^^^^^^^^^^^^^^^^^^^^^^^^^^^^^^^^^^\n",
            "  File \"C:\\Users\\hrahm\\anaconda3\\Lib\\site-packages\\tensorflowjs\\write_weights.py\", line 25, in <module>\n",
            "    from tensorflowjs import read_weights\n",
            "  File \"C:\\Users\\hrahm\\anaconda3\\Lib\\site-packages\\tensorflowjs\\read_weights.py\", line 28, in <module>\n",
            "    np.uint8, np.uint16, np.object, np.bool]\n",
            "                         ^^^^^^^^^\n",
            "  File \"C:\\Users\\hrahm\\anaconda3\\Lib\\site-packages\\numpy\\__init__.py\", line 338, in __getattr__\n",
            "    raise AttributeError(__former_attrs__[attr])\n",
            "AttributeError: module 'numpy' has no attribute 'object'.\n",
            "`np.object` was a deprecated alias for the builtin `object`. To avoid this error in existing code, use `object` by itself. Doing this will not modify any behavior and is safe. \n",
            "The aliases was originally deprecated in NumPy 1.20; for more details and guidance see the original release note at:\n",
            "    https://numpy.org/devdocs/release/1.20.0-notes.html#deprecations. Did you mean: 'object_'?\n"
          ]
        }
      ],
      "source": [
        "!tensorflowjs_converter --version"
      ]
    },
    {
      "cell_type": "code",
      "execution_count": 22,
      "metadata": {
        "colab": {
          "base_uri": "https://localhost:8080/"
        },
        "id": "OwgD8P2Jdtx8",
        "outputId": "63cff04f-022f-4a35-af37-8f28f4ff9ad1"
      },
      "outputs": [
        {
          "name": "stderr",
          "output_type": "stream",
          "text": [
            "2025-03-16 00:21:11.907219: I tensorflow/core/util/port.cc:153] oneDNN custom operations are on. You may see slightly different numerical results due to floating-point round-off errors from different computation orders. To turn them off, set the environment variable `TF_ENABLE_ONEDNN_OPTS=0`.\n",
            "2025-03-16 00:21:13.248818: I tensorflow/core/util/port.cc:153] oneDNN custom operations are on. You may see slightly different numerical results due to floating-point round-off errors from different computation orders. To turn them off, set the environment variable `TF_ENABLE_ONEDNN_OPTS=0`.\n",
            "C:\\Users\\hrahm\\anaconda3\\Lib\\site-packages\\tensorflowjs\\read_weights.py:28: FutureWarning: In the future `np.object` will be defined as the corresponding NumPy scalar.\n",
            "  np.uint8, np.uint16, np.object, np.bool]\n",
            "Traceback (most recent call last):\n",
            "  File \"<frozen runpy>\", line 198, in _run_module_as_main\n",
            "  File \"<frozen runpy>\", line 88, in _run_code\n",
            "  File \"C:\\Users\\hrahm\\anaconda3\\Scripts\\tensorflowjs_converter.exe\\__main__.py\", line 4, in <module>\n",
            "  File \"C:\\Users\\hrahm\\anaconda3\\Lib\\site-packages\\tensorflowjs\\__init__.py\", line 21, in <module>\n",
            "    from tensorflowjs import converters\n",
            "  File \"C:\\Users\\hrahm\\anaconda3\\Lib\\site-packages\\tensorflowjs\\converters\\__init__.py\", line 21, in <module>\n",
            "    from tensorflowjs.converters.converter import convert\n",
            "  File \"C:\\Users\\hrahm\\anaconda3\\Lib\\site-packages\\tensorflowjs\\converters\\converter.py\", line 35, in <module>\n",
            "    from tensorflowjs.converters import keras_h5_conversion as conversion\n",
            "  File \"C:\\Users\\hrahm\\anaconda3\\Lib\\site-packages\\tensorflowjs\\converters\\keras_h5_conversion.py\", line 33, in <module>\n",
            "    from tensorflowjs import write_weights  # pylint: disable=import-error\n",
            "    ^^^^^^^^^^^^^^^^^^^^^^^^^^^^^^^^^^^^^^\n",
            "  File \"C:\\Users\\hrahm\\anaconda3\\Lib\\site-packages\\tensorflowjs\\write_weights.py\", line 25, in <module>\n",
            "    from tensorflowjs import read_weights\n",
            "  File \"C:\\Users\\hrahm\\anaconda3\\Lib\\site-packages\\tensorflowjs\\read_weights.py\", line 28, in <module>\n",
            "    np.uint8, np.uint16, np.object, np.bool]\n",
            "                         ^^^^^^^^^\n",
            "  File \"C:\\Users\\hrahm\\anaconda3\\Lib\\site-packages\\numpy\\__init__.py\", line 338, in __getattr__\n",
            "    raise AttributeError(__former_attrs__[attr])\n",
            "AttributeError: module 'numpy' has no attribute 'object'.\n",
            "`np.object` was a deprecated alias for the builtin `object`. To avoid this error in existing code, use `object` by itself. Doing this will not modify any behavior and is safe. \n",
            "The aliases was originally deprecated in NumPy 1.20; for more details and guidance see the original release note at:\n",
            "    https://numpy.org/devdocs/release/1.20.0-notes.html#deprecations. Did you mean: 'object_'?\n"
          ]
        }
      ],
      "source": [
        "!tensorflowjs_converter --input_format=keras dataset_rice.h5 tfjs_model"
      ]
    },
    {
      "cell_type": "code",
      "execution_count": 23,
      "metadata": {
        "colab": {
          "base_uri": "https://localhost:8080/",
          "height": 17
        },
        "id": "OJJtXAK-ztZ1",
        "outputId": "e0300ba8-c020-43b7-8f7d-83844dc7f20e"
      },
      "outputs": [
        {
          "name": "stdout",
          "output_type": "stream",
          "text": [
            "Requirement already satisfied: pipreqs in c:\\users\\hrahm\\anaconda3\\lib\\site-packages (0.5.0)"
          ]
        },
        {
          "name": "stderr",
          "output_type": "stream",
          "text": [
            "WARNING: bleach 4.1.0 does not provide the extra 'css'\n"
          ]
        },
        {
          "name": "stdout",
          "output_type": "stream",
          "text": [
            "\n",
            "Requirement already satisfied: docopt==0.6.2 in c:\\users\\hrahm\\anaconda3\\lib\\site-packages (from pipreqs) (0.6.2)\n",
            "Requirement already satisfied: ipython==8.12.3 in c:\\users\\hrahm\\anaconda3\\lib\\site-packages (from pipreqs) (8.12.3)\n",
            "Requirement already satisfied: nbconvert<8.0.0,>=7.11.0 in c:\\users\\hrahm\\anaconda3\\lib\\site-packages (from pipreqs) (7.16.6)\n",
            "Requirement already satisfied: yarg==0.1.9 in c:\\users\\hrahm\\anaconda3\\lib\\site-packages (from pipreqs) (0.1.9)\n",
            "Requirement already satisfied: backcall in c:\\users\\hrahm\\anaconda3\\lib\\site-packages (from ipython==8.12.3->pipreqs) (0.2.0)\n",
            "Requirement already satisfied: decorator in c:\\users\\hrahm\\anaconda3\\lib\\site-packages (from ipython==8.12.3->pipreqs) (5.1.1)\n",
            "Requirement already satisfied: jedi>=0.16 in c:\\users\\hrahm\\anaconda3\\lib\\site-packages (from ipython==8.12.3->pipreqs) (0.18.1)\n",
            "Requirement already satisfied: matplotlib-inline in c:\\users\\hrahm\\anaconda3\\lib\\site-packages (from ipython==8.12.3->pipreqs) (0.1.6)\n",
            "Requirement already satisfied: pickleshare in c:\\users\\hrahm\\anaconda3\\lib\\site-packages (from ipython==8.12.3->pipreqs) (0.7.5)\n",
            "Requirement already satisfied: prompt-toolkit!=3.0.37,<3.1.0,>=3.0.30 in c:\\users\\hrahm\\anaconda3\\lib\\site-packages (from ipython==8.12.3->pipreqs) (3.0.43)\n",
            "Requirement already satisfied: pygments>=2.4.0 in c:\\users\\hrahm\\anaconda3\\lib\\site-packages (from ipython==8.12.3->pipreqs) (2.15.1)\n",
            "Requirement already satisfied: stack-data in c:\\users\\hrahm\\anaconda3\\lib\\site-packages (from ipython==8.12.3->pipreqs) (0.2.0)\n",
            "Requirement already satisfied: traitlets>=5 in c:\\users\\hrahm\\anaconda3\\lib\\site-packages (from ipython==8.12.3->pipreqs) (5.14.3)\n",
            "Requirement already satisfied: colorama in c:\\users\\hrahm\\anaconda3\\lib\\site-packages (from ipython==8.12.3->pipreqs) (0.4.6)\n",
            "Requirement already satisfied: requests in c:\\users\\hrahm\\anaconda3\\lib\\site-packages (from yarg==0.1.9->pipreqs) (2.32.2)\n",
            "Requirement already satisfied: beautifulsoup4 in c:\\users\\hrahm\\anaconda3\\lib\\site-packages (from nbconvert<8.0.0,>=7.11.0->pipreqs) (4.12.3)\n",
            "Requirement already satisfied: bleach!=5.0.0 in c:\\users\\hrahm\\anaconda3\\lib\\site-packages (from bleach[css]!=5.0.0->nbconvert<8.0.0,>=7.11.0->pipreqs) (4.1.0)\n",
            "Requirement already satisfied: defusedxml in c:\\users\\hrahm\\anaconda3\\lib\\site-packages (from nbconvert<8.0.0,>=7.11.0->pipreqs) (0.7.1)\n",
            "Requirement already satisfied: jinja2>=3.0 in c:\\users\\hrahm\\anaconda3\\lib\\site-packages (from nbconvert<8.0.0,>=7.11.0->pipreqs) (3.1.4)\n",
            "Requirement already satisfied: jupyter-core>=4.7 in c:\\users\\hrahm\\anaconda3\\lib\\site-packages (from nbconvert<8.0.0,>=7.11.0->pipreqs) (5.7.2)\n",
            "Requirement already satisfied: jupyterlab-pygments in c:\\users\\hrahm\\anaconda3\\lib\\site-packages (from nbconvert<8.0.0,>=7.11.0->pipreqs) (0.1.2)\n",
            "Requirement already satisfied: markupsafe>=2.0 in c:\\users\\hrahm\\anaconda3\\lib\\site-packages (from nbconvert<8.0.0,>=7.11.0->pipreqs) (2.1.3)\n",
            "Requirement already satisfied: mistune<4,>=2.0.3 in c:\\users\\hrahm\\anaconda3\\lib\\site-packages (from nbconvert<8.0.0,>=7.11.0->pipreqs) (2.0.4)\n",
            "Requirement already satisfied: nbclient>=0.5.0 in c:\\users\\hrahm\\anaconda3\\lib\\site-packages (from nbconvert<8.0.0,>=7.11.0->pipreqs) (0.8.0)\n",
            "Requirement already satisfied: nbformat>=5.7 in c:\\users\\hrahm\\anaconda3\\lib\\site-packages (from nbconvert<8.0.0,>=7.11.0->pipreqs) (5.9.2)\n",
            "Requirement already satisfied: packaging in c:\\users\\hrahm\\anaconda3\\lib\\site-packages (from nbconvert<8.0.0,>=7.11.0->pipreqs) (20.9)\n",
            "Requirement already satisfied: pandocfilters>=1.4.1 in c:\\users\\hrahm\\anaconda3\\lib\\site-packages (from nbconvert<8.0.0,>=7.11.0->pipreqs) (1.5.0)\n",
            "Requirement already satisfied: six>=1.9.0 in c:\\users\\hrahm\\anaconda3\\lib\\site-packages (from bleach!=5.0.0->bleach[css]!=5.0.0->nbconvert<8.0.0,>=7.11.0->pipreqs) (1.16.0)\n",
            "Requirement already satisfied: webencodings in c:\\users\\hrahm\\anaconda3\\lib\\site-packages (from bleach!=5.0.0->bleach[css]!=5.0.0->nbconvert<8.0.0,>=7.11.0->pipreqs) (0.5.1)\n",
            "Requirement already satisfied: parso<0.9.0,>=0.8.0 in c:\\users\\hrahm\\anaconda3\\lib\\site-packages (from jedi>=0.16->ipython==8.12.3->pipreqs) (0.8.3)\n",
            "Requirement already satisfied: platformdirs>=2.5 in c:\\users\\hrahm\\anaconda3\\lib\\site-packages (from jupyter-core>=4.7->nbconvert<8.0.0,>=7.11.0->pipreqs) (3.10.0)\n",
            "Requirement already satisfied: pywin32>=300 in c:\\users\\hrahm\\anaconda3\\lib\\site-packages (from jupyter-core>=4.7->nbconvert<8.0.0,>=7.11.0->pipreqs) (305.1)\n",
            "Requirement already satisfied: jupyter-client>=6.1.12 in c:\\users\\hrahm\\anaconda3\\lib\\site-packages (from nbclient>=0.5.0->nbconvert<8.0.0,>=7.11.0->pipreqs) (8.6.0)\n",
            "Requirement already satisfied: fastjsonschema in c:\\users\\hrahm\\anaconda3\\lib\\site-packages (from nbformat>=5.7->nbconvert<8.0.0,>=7.11.0->pipreqs) (2.16.2)\n",
            "Requirement already satisfied: jsonschema>=2.6 in c:\\users\\hrahm\\anaconda3\\lib\\site-packages (from nbformat>=5.7->nbconvert<8.0.0,>=7.11.0->pipreqs) (4.19.2)\n",
            "Requirement already satisfied: wcwidth in c:\\users\\hrahm\\anaconda3\\lib\\site-packages (from prompt-toolkit!=3.0.37,<3.1.0,>=3.0.30->ipython==8.12.3->pipreqs) (0.2.5)\n",
            "Requirement already satisfied: soupsieve>1.2 in c:\\users\\hrahm\\anaconda3\\lib\\site-packages (from beautifulsoup4->nbconvert<8.0.0,>=7.11.0->pipreqs) (2.5)\n",
            "Requirement already satisfied: pyparsing>=2.0.2 in c:\\users\\hrahm\\anaconda3\\lib\\site-packages (from packaging->nbconvert<8.0.0,>=7.11.0->pipreqs) (3.0.9)\n",
            "Requirement already satisfied: charset-normalizer<4,>=2 in c:\\users\\hrahm\\anaconda3\\lib\\site-packages (from requests->yarg==0.1.9->pipreqs) (2.0.4)\n",
            "Requirement already satisfied: idna<4,>=2.5 in c:\\users\\hrahm\\anaconda3\\lib\\site-packages (from requests->yarg==0.1.9->pipreqs) (2.10)\n",
            "Requirement already satisfied: urllib3<3,>=1.21.1 in c:\\users\\hrahm\\anaconda3\\lib\\site-packages (from requests->yarg==0.1.9->pipreqs) (2.2.2)\n",
            "Requirement already satisfied: certifi>=2017.4.17 in c:\\users\\hrahm\\anaconda3\\lib\\site-packages (from requests->yarg==0.1.9->pipreqs) (2024.7.4)\n",
            "Requirement already satisfied: executing in c:\\users\\hrahm\\anaconda3\\lib\\site-packages (from stack-data->ipython==8.12.3->pipreqs) (0.8.3)\n",
            "Requirement already satisfied: asttokens in c:\\users\\hrahm\\anaconda3\\lib\\site-packages (from stack-data->ipython==8.12.3->pipreqs) (2.0.5)\n",
            "Requirement already satisfied: pure-eval in c:\\users\\hrahm\\anaconda3\\lib\\site-packages (from stack-data->ipython==8.12.3->pipreqs) (0.2.2)\n",
            "Requirement already satisfied: attrs>=22.2.0 in c:\\users\\hrahm\\anaconda3\\lib\\site-packages (from jsonschema>=2.6->nbformat>=5.7->nbconvert<8.0.0,>=7.11.0->pipreqs) (23.1.0)\n",
            "Requirement already satisfied: jsonschema-specifications>=2023.03.6 in c:\\users\\hrahm\\anaconda3\\lib\\site-packages (from jsonschema>=2.6->nbformat>=5.7->nbconvert<8.0.0,>=7.11.0->pipreqs) (2023.7.1)\n",
            "Requirement already satisfied: referencing>=0.28.4 in c:\\users\\hrahm\\anaconda3\\lib\\site-packages (from jsonschema>=2.6->nbformat>=5.7->nbconvert<8.0.0,>=7.11.0->pipreqs) (0.30.2)\n",
            "Requirement already satisfied: rpds-py>=0.7.1 in c:\\users\\hrahm\\anaconda3\\lib\\site-packages (from jsonschema>=2.6->nbformat>=5.7->nbconvert<8.0.0,>=7.11.0->pipreqs) (0.10.6)\n",
            "Requirement already satisfied: python-dateutil>=2.8.2 in c:\\users\\hrahm\\anaconda3\\lib\\site-packages (from jupyter-client>=6.1.12->nbclient>=0.5.0->nbconvert<8.0.0,>=7.11.0->pipreqs) (2.9.0.post0)\n",
            "Requirement already satisfied: pyzmq>=23.0 in c:\\users\\hrahm\\anaconda3\\lib\\site-packages (from jupyter-client>=6.1.12->nbclient>=0.5.0->nbconvert<8.0.0,>=7.11.0->pipreqs) (25.1.2)\n",
            "Requirement already satisfied: tornado>=6.2 in c:\\users\\hrahm\\anaconda3\\lib\\site-packages (from jupyter-client>=6.1.12->nbclient>=0.5.0->nbconvert<8.0.0,>=7.11.0->pipreqs) (6.4.1)\n"
          ]
        }
      ],
      "source": [
        "# Generate requirements.txt\n",
        "!pip install pipreqs\n"
      ]
    },
    {
      "cell_type": "markdown",
      "metadata": {},
      "source": [
        "# Infrence Testing"
      ]
    },
    {
      "cell_type": "code",
      "execution_count": 24,
      "metadata": {},
      "outputs": [
        {
          "name": "stdout",
          "output_type": "stream",
          "text": [
            "1/1 [==============================] - 0s 116ms/step\n",
            "The predicted label for the test image is: Arborio\n"
          ]
        }
      ],
      "source": [
        "import numpy as np\n",
        "from tensorflow.keras.preprocessing import image\n",
        "\n",
        "# Load the trained model\n",
        "model = tf.keras.models.load_model(r'C:\\Users\\hrahm\\OneDrive\\Documents\\machine learning doing\\rice image classification\\dataset_rice.h5')\n",
        "\n",
        "# Function to make predictions on a single image\n",
        "def predict_image(img_path):\n",
        "    img = image.load_img(img_path, target_size=(150, 150))  # Adjust target_size as per your model's input size\n",
        "    img_array = image.img_to_array(img)\n",
        "    img_array = np.expand_dims(img_array, axis=0)\n",
        "    img_array /= 255.0  # Normalize the image if required by your model\n",
        "\n",
        "    prediction = model.predict(img_array)\n",
        "    class_idx = np.argmax(prediction, axis=1)[0]\n",
        "    class_labels = ['Arborio', 'Basmati', 'Ipsala','Jasmine','Karacadag']  # Replace with your actual class labels\n",
        "    predicted_label = class_labels[class_idx]\n",
        "\n",
        "    return predicted_label\n",
        "\n",
        "# Test the function with an example image\n",
        "test_image_path = './test_model.png'  # Replace with the path to your test image\n",
        "predicted_label = predict_image(test_image_path)\n",
        "print(f'The predicted label for the test image is: {predicted_label}')"
      ]
    },
    {
      "cell_type": "code",
      "execution_count": 25,
      "metadata": {},
      "outputs": [
        {
          "name": "stdout",
          "output_type": "stream",
          "text": [
            "1/1 [==============================] - 0s 21ms/step\n",
            "The predicted label for the test image is: Basmati\n"
          ]
        }
      ],
      "source": [
        "# Test the function with an example image\n",
        "test_image_path = './test_model_two.png'  # Replace with the path to your test image\n",
        "predicted_label = predict_image(test_image_path)\n",
        "print(f'The predicted label for the test image is: {predicted_label}')"
      ]
    }
  ],
  "metadata": {
    "accelerator": "GPU",
    "colab": {
      "gpuType": "T4",
      "provenance": []
    },
    "kernelspec": {
      "display_name": ".venv",
      "language": "python",
      "name": "python3"
    },
    "language_info": {
      "codemirror_mode": {
        "name": "ipython",
        "version": 3
      },
      "file_extension": ".py",
      "mimetype": "text/x-python",
      "name": "python",
      "nbconvert_exporter": "python",
      "pygments_lexer": "ipython3",
      "version": "3.10.16"
    }
  },
  "nbformat": 4,
  "nbformat_minor": 0
}
